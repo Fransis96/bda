{
 "cells": [
  {
   "cell_type": "markdown",
   "id": "8750e083-e1db-49f8-8889-0d474073c00f",
   "metadata": {},
   "source": [
    "# KMeans Custering"
   ]
  },
  {
   "cell_type": "markdown",
   "id": "56f6b8cf-9938-452b-ab35-0916ab709b7f",
   "metadata": {},
   "source": [
    "### Import library"
   ]
  },
  {
   "cell_type": "code",
   "execution_count": 1,
   "id": "5fb2421b-1156-4035-9851-941ddabbdcf4",
   "metadata": {},
   "outputs": [],
   "source": [
    "import pandas as pd\n",
    "import numpy as np\n",
    "from sklearn.cluster import KMeans\n",
    "from matplotlib import pyplot as plt\n",
    "from sklearn.preprocessing import StandardScaler"
   ]
  },
  {
   "cell_type": "markdown",
   "id": "6c1d60e8-2a87-4b25-bb7d-9b27ca254357",
   "metadata": {},
   "source": [
    "### Baca data dan tampilkan lima baris pertama"
   ]
  },
  {
   "cell_type": "code",
   "execution_count": 2,
   "id": "cd932cb5-d99b-4139-9b29-752559be1296",
   "metadata": {},
   "outputs": [],
   "source": [
    "df = pd.read_excel(\"laporan_iklim_jayapura_mei_2025.xlsx\")"
   ]
  },
  {
   "cell_type": "code",
   "execution_count": 3,
   "id": "264a4f55-2608-44e3-9bc6-2c927fbe1bfc",
   "metadata": {},
   "outputs": [
    {
     "data": {
      "text/html": [
       "<div>\n",
       "<style scoped>\n",
       "    .dataframe tbody tr th:only-of-type {\n",
       "        vertical-align: middle;\n",
       "    }\n",
       "\n",
       "    .dataframe tbody tr th {\n",
       "        vertical-align: top;\n",
       "    }\n",
       "\n",
       "    .dataframe thead th {\n",
       "        text-align: right;\n",
       "    }\n",
       "</style>\n",
       "<table border=\"1\" class=\"dataframe\">\n",
       "  <thead>\n",
       "    <tr style=\"text-align: right;\">\n",
       "      <th></th>\n",
       "      <th>TANGGAL</th>\n",
       "      <th>TN</th>\n",
       "      <th>TX</th>\n",
       "      <th>TAVG</th>\n",
       "      <th>RH_AVG</th>\n",
       "      <th>RR</th>\n",
       "      <th>SS</th>\n",
       "      <th>FF_X</th>\n",
       "      <th>DDD_X</th>\n",
       "      <th>FF_AVG</th>\n",
       "      <th>DDD_CAR</th>\n",
       "    </tr>\n",
       "  </thead>\n",
       "  <tbody>\n",
       "    <tr>\n",
       "      <th>0</th>\n",
       "      <td>01-05-2025</td>\n",
       "      <td>25.6</td>\n",
       "      <td>32.2</td>\n",
       "      <td>28.8</td>\n",
       "      <td>81</td>\n",
       "      <td>8888.0</td>\n",
       "      <td>5.0</td>\n",
       "      <td>5</td>\n",
       "      <td>70</td>\n",
       "      <td>2</td>\n",
       "      <td>NE</td>\n",
       "    </tr>\n",
       "    <tr>\n",
       "      <th>1</th>\n",
       "      <td>02-05-2025</td>\n",
       "      <td>26.4</td>\n",
       "      <td>32.0</td>\n",
       "      <td>28.9</td>\n",
       "      <td>84</td>\n",
       "      <td>0.0</td>\n",
       "      <td>7.8</td>\n",
       "      <td>6</td>\n",
       "      <td>60</td>\n",
       "      <td>3</td>\n",
       "      <td>E</td>\n",
       "    </tr>\n",
       "    <tr>\n",
       "      <th>2</th>\n",
       "      <td>03-05-2025</td>\n",
       "      <td>26.3</td>\n",
       "      <td>32.5</td>\n",
       "      <td>28.9</td>\n",
       "      <td>86</td>\n",
       "      <td>0.0</td>\n",
       "      <td>8.0</td>\n",
       "      <td>7</td>\n",
       "      <td>50</td>\n",
       "      <td>4</td>\n",
       "      <td>NE</td>\n",
       "    </tr>\n",
       "    <tr>\n",
       "      <th>3</th>\n",
       "      <td>04-05-2025</td>\n",
       "      <td>27.2</td>\n",
       "      <td>32.2</td>\n",
       "      <td>29.1</td>\n",
       "      <td>85</td>\n",
       "      <td>0.1</td>\n",
       "      <td>8.0</td>\n",
       "      <td>6</td>\n",
       "      <td>70</td>\n",
       "      <td>3</td>\n",
       "      <td>NE</td>\n",
       "    </tr>\n",
       "    <tr>\n",
       "      <th>4</th>\n",
       "      <td>05-05-2025</td>\n",
       "      <td>26.6</td>\n",
       "      <td>32.2</td>\n",
       "      <td>28.8</td>\n",
       "      <td>87</td>\n",
       "      <td>0.1</td>\n",
       "      <td>6.8</td>\n",
       "      <td>7</td>\n",
       "      <td>40</td>\n",
       "      <td>3</td>\n",
       "      <td>NE</td>\n",
       "    </tr>\n",
       "  </tbody>\n",
       "</table>\n",
       "</div>"
      ],
      "text/plain": [
       "      TANGGAL    TN    TX  TAVG  RH_AVG      RR   SS  FF_X  DDD_X  FF_AVG  \\\n",
       "0  01-05-2025  25.6  32.2  28.8      81  8888.0  5.0     5     70       2   \n",
       "1  02-05-2025  26.4  32.0  28.9      84     0.0  7.8     6     60       3   \n",
       "2  03-05-2025  26.3  32.5  28.9      86     0.0  8.0     7     50       4   \n",
       "3  04-05-2025  27.2  32.2  29.1      85     0.1  8.0     6     70       3   \n",
       "4  05-05-2025  26.6  32.2  28.8      87     0.1  6.8     7     40       3   \n",
       "\n",
       "  DDD_CAR  \n",
       "0      NE  \n",
       "1       E  \n",
       "2      NE  \n",
       "3      NE  \n",
       "4      NE  "
      ]
     },
     "execution_count": 3,
     "metadata": {},
     "output_type": "execute_result"
    }
   ],
   "source": [
    "df.head()"
   ]
  },
  {
   "cell_type": "code",
   "execution_count": 4,
   "id": "5feda78c-d000-488e-b62b-c7a84fd724e5",
   "metadata": {},
   "outputs": [
    {
     "name": "stdout",
     "output_type": "stream",
     "text": [
      "<class 'pandas.core.frame.DataFrame'>\n",
      "RangeIndex: 31 entries, 0 to 30\n",
      "Data columns (total 11 columns):\n",
      " #   Column   Non-Null Count  Dtype  \n",
      "---  ------   --------------  -----  \n",
      " 0   TANGGAL  31 non-null     object \n",
      " 1   TN       31 non-null     float64\n",
      " 2   TX       31 non-null     float64\n",
      " 3   TAVG     31 non-null     float64\n",
      " 4   RH_AVG   31 non-null     int64  \n",
      " 5   RR       31 non-null     float64\n",
      " 6   SS       31 non-null     float64\n",
      " 7   FF_X     31 non-null     int64  \n",
      " 8   DDD_X    31 non-null     int64  \n",
      " 9   FF_AVG   31 non-null     int64  \n",
      " 10  DDD_CAR  31 non-null     object \n",
      "dtypes: float64(5), int64(4), object(2)\n",
      "memory usage: 2.8+ KB\n"
     ]
    }
   ],
   "source": [
    "df.info()"
   ]
  },
  {
   "cell_type": "markdown",
   "id": "eec0d712-d0b4-4ccf-a1ed-2850e4ccb04a",
   "metadata": {},
   "source": [
    "### Periksa nilai 8888 dan 9999 disetiap kolom"
   ]
  },
  {
   "cell_type": "code",
   "execution_count": 5,
   "id": "387b20be-519f-4ba8-afca-6b65611c90c2",
   "metadata": {},
   "outputs": [
    {
     "name": "stdout",
     "output_type": "stream",
     "text": [
      "Sebaran nilai 8888 per kolom:\n",
      "TANGGAL    0\n",
      "TN         0\n",
      "TX         0\n",
      "TAVG       0\n",
      "RH_AVG     0\n",
      "RR         1\n",
      "SS         0\n",
      "FF_X       0\n",
      "DDD_X      0\n",
      "FF_AVG     0\n",
      "DDD_CAR    0\n",
      "dtype: int64\n",
      "\n",
      "Sebaran nilai 9999 per kolom:\n",
      "TANGGAL    0\n",
      "TN         0\n",
      "TX         0\n",
      "TAVG       0\n",
      "RH_AVG     0\n",
      "RR         0\n",
      "SS         0\n",
      "FF_X       0\n",
      "DDD_X      0\n",
      "FF_AVG     0\n",
      "DDD_CAR    0\n",
      "dtype: int64\n"
     ]
    }
   ],
   "source": [
    "print(\"Sebaran nilai 8888 per kolom:\")\n",
    "print((df == 8888).sum())\n",
    "\n",
    "print(\"\\nSebaran nilai 9999 per kolom:\")\n",
    "print((df == 9999).sum())"
   ]
  },
  {
   "cell_type": "markdown",
   "id": "a38e1105-ab2f-413e-a8d1-a370f84400f4",
   "metadata": {},
   "source": [
    "### Penanganan nilai 8888 pada kolom ``RR``"
   ]
  },
  {
   "cell_type": "code",
   "execution_count": 6,
   "id": "1659dd2b-829d-447a-b0f8-4f46ae9e05b0",
   "metadata": {},
   "outputs": [],
   "source": [
    "df = df[df['RR'] != 8888]"
   ]
  },
  {
   "cell_type": "markdown",
   "id": "76cd2630-837a-4c50-ad17-e36f8b3d841d",
   "metadata": {},
   "source": [
    "### Cek kembali"
   ]
  },
  {
   "cell_type": "code",
   "execution_count": 7,
   "id": "e24b2766-2ae8-43f7-8766-63a82f1f0313",
   "metadata": {},
   "outputs": [
    {
     "name": "stdout",
     "output_type": "stream",
     "text": [
      "Kolom RR dengan nilai 8888 =  0\n"
     ]
    }
   ],
   "source": [
    "print(\"Kolom RR dengan nilai 8888 = \", (df['RR'] == 8888).sum())"
   ]
  },
  {
   "cell_type": "markdown",
   "id": "034ca4c0-e764-4780-b895-0d4538bd0f4b",
   "metadata": {},
   "source": [
    "### Pilih Fitur untuk Clustering"
   ]
  },
  {
   "cell_type": "code",
   "execution_count": 8,
   "id": "eac37fce-a45d-445f-b763-05c07be6cac7",
   "metadata": {},
   "outputs": [],
   "source": [
    "fitur = df[['TAVG', 'RH_AVG', 'RR', 'SS', 'FF_X']]"
   ]
  },
  {
   "cell_type": "markdown",
   "id": "54c8cde5-6750-4f20-aea6-78a01e699f83",
   "metadata": {},
   "source": [
    "### Standarisasi Fitur"
   ]
  },
  {
   "cell_type": "code",
   "execution_count": 9,
   "id": "cb635120-d460-43a0-ae39-33c70ea2e8f7",
   "metadata": {},
   "outputs": [],
   "source": [
    "scaler = StandardScaler()\n",
    "fitur_scaled = scaler.fit_transform(fitur)"
   ]
  },
  {
   "cell_type": "markdown",
   "id": "b4d20e25-ccfa-4df4-a93f-ee4596fa7287",
   "metadata": {},
   "source": [
    "### Menentukan Jumlah Cluster (Elbow Method)"
   ]
  },
  {
   "cell_type": "code",
   "execution_count": 10,
   "id": "546b8095-3c5e-47cd-bdc3-33f6ff197612",
   "metadata": {},
   "outputs": [
    {
     "data": {
      "image/png": "[encoded data removed]",
      "text/plain": [
       "<Figure size 640x480 with 1 Axes>"
      ]
     },
     "metadata": {},
     "output_type": "display_data"
    }
   ],
   "source": [
    "import os\n",
    "\n",
    "inertia = []\n",
    "for k in range(1, 10):\n",
    "    kmeans = KMeans(n_clusters=k, random_state=42)\n",
    "    os.environ[\"LOKY_MAX_CPU_COUNT\"] = \"4\"\n",
    "    kmeans.fit(fitur_scaled)\n",
    "    inertia.append(kmeans.inertia_)\n",
    "\n",
    "plt.plot(range(1, 10), inertia, marker='o')\n",
    "plt.xlabel('Jumlah Cluster')\n",
    "plt.ylabel('Inertia')\n",
    "plt.title('Elbow Method')\n",
    "plt.show()"
   ]
  },
  {
   "cell_type": "markdown",
   "id": "46627ea6-f64f-465a-94e6-2147ac01df79",
   "metadata": {},
   "source": [
    "### Validasi jumlah cluster"
   ]
  },
  {
   "cell_type": "code",
   "execution_count": 11,
   "id": "362e6d1b-e1d6-4237-b089-150a419eeffb",
   "metadata": {},
   "outputs": [
    {
     "name": "stdout",
     "output_type": "stream",
     "text": [
      "k=2 → Silhouette Score = 0.6990, Davies-Bouldin Index = 0.5096\n",
      "k=3 → Silhouette Score = 0.4465, Davies-Bouldin Index = 0.9049\n",
      "k=4 → Silhouette Score = 0.3609, Davies-Bouldin Index = 0.8991\n",
      "k=5 → Silhouette Score = 0.4205, Davies-Bouldin Index = 0.7640\n"
     ]
    }
   ],
   "source": [
    "from sklearn.cluster import KMeans\n",
    "from sklearn.metrics import silhouette_score, davies_bouldin_score\n",
    "import pandas as pd\n",
    "\n",
    "# Misal kamu sudah punya DataFrame bernama df dan kita pakai kolom numerik saja\n",
    "# Contoh subset kolom yang dipakai untuk clustering:\n",
    "X = df[['TAVG', 'RH_AVG', 'RR', 'SS', 'FF_X']]\n",
    "\n",
    "# Loop untuk uji beberapa jumlah cluster (k)\n",
    "for k in range(2, 6):\n",
    "    kmeans = KMeans(n_clusters=k, random_state=42)\n",
    "    cluster_labels = kmeans.fit_predict(X)\n",
    "\n",
    "    sil_score = silhouette_score(X, cluster_labels)\n",
    "    db_index = davies_bouldin_score(X, cluster_labels)\n",
    "\n",
    "    print(f\"k={k} → Silhouette Score = {sil_score:.4f}, Davies-Bouldin Index = {db_index:.4f}\")"
   ]
  },
  {
   "cell_type": "markdown",
   "id": "cf4086a5-6e65-4956-8446-bea77439d6a3",
   "metadata": {},
   "source": [
    "### Lakukan Clustering"
   ]
  },
  {
   "cell_type": "code",
   "execution_count": 12,
   "id": "1572ee00-98a6-4919-81a8-c0fec2e8e1c7",
   "metadata": {},
   "outputs": [],
   "source": [
    "kmeans = KMeans(n_clusters=2, random_state=42) \n",
    "df['cluster'] = kmeans.fit_predict(fitur_scaled)"
   ]
  },
  {
   "cell_type": "markdown",
   "id": "cd38a530-6999-49de-9434-e9b6b19e86d1",
   "metadata": {},
   "source": [
    "### Lihat Hasilnya"
   ]
  },
  {
   "cell_type": "code",
   "execution_count": 13,
   "id": "e0e79c68-6800-433f-8a49-04f11afca99d",
   "metadata": {},
   "outputs": [
    {
     "name": "stdout",
     "output_type": "stream",
     "text": [
      "      TANGGAL  cluster\n",
      "1  02-05-2025        1\n",
      "2  03-05-2025        1\n",
      "3  04-05-2025        1\n",
      "4  05-05-2025        1\n",
      "5  06-05-2025        1\n"
     ]
    }
   ],
   "source": [
    "print(df[['TANGGAL', 'cluster']].head())"
   ]
  },
  {
   "cell_type": "markdown",
   "id": "208fc8ff-16af-4930-9ef6-b86fefe1884b",
   "metadata": {},
   "source": [
    "### Deskripsi Tiap Cluster"
   ]
  },
  {
   "cell_type": "code",
   "execution_count": 14,
   "id": "7d90158a-6fa3-48e0-82e0-bafabdfd4cb5",
   "metadata": {},
   "outputs": [
    {
     "name": "stdout",
     "output_type": "stream",
     "text": [
      "              TAVG     RH_AVG        RR        SS      FF_X\n",
      "cluster                                                    \n",
      "0        27.654545  89.909091  8.690909  3.000000  4.636364\n",
      "1        28.910526  85.473684  2.089474  7.147368  6.947368\n"
     ]
    }
   ],
   "source": [
    "print(df.groupby('cluster')[['TAVG', 'RH_AVG', 'RR', 'SS', 'FF_X']].mean())"
   ]
  },
  {
   "cell_type": "markdown",
   "id": "e4905c72-64df-42fc-99ce-f1d7b6f453eb",
   "metadata": {},
   "source": [
    "### Visualisasi"
   ]
  },
  {
   "cell_type": "code",
   "execution_count": 15,
   "id": "efcd61ab-78c6-44a1-a977-9fc489350880",
   "metadata": {},
   "outputs": [
    {
     "data": {
      "text/plain": [
       "<Axes: xlabel='TAVG', ylabel='RH_AVG'>"
      ]
     },
     "execution_count": 15,
     "metadata": {},
     "output_type": "execute_result"
    },
    {
     "data": {
      "image/png": "[encoded data removed]",
      "text/plain": [
       "<Figure size 640x480 with 1 Axes>"
      ]
     },
     "metadata": {},
     "output_type": "display_data"
    }
   ],
   "source": [
    "import seaborn as sns\n",
    "\n",
    "sns.scatterplot(\n",
    "    x='TAVG', y='RH_AVG', hue='cluster', data=df, palette='Set1'\n",
    ")"
   ]
  },
  {
   "cell_type": "code",
   "execution_count": 16,
   "id": "80b023be-5c55-48a4-adfa-477d2a79875c",
   "metadata": {},
   "outputs": [
    {
     "data": {
      "text/plain": [
       "(30, 12)"
      ]
     },
     "execution_count": 16,
     "metadata": {},
     "output_type": "execute_result"
    }
   ],
   "source": [
    "df.shape"
   ]
  },
  {
   "cell_type": "markdown",
   "id": "b95de2fb-90c9-4b07-ab62-f0e6f99fef96",
   "metadata": {},
   "source": [
    "# SIMPANAN"
   ]
  },
  {
   "cell_type": "markdown",
   "id": "2130d579-8575-4291-b497-856f8a660446",
   "metadata": {},
   "source": [
    "### Contoh 1: Prediksi Suhu Rata-Rata (TAVG) — Regresi"
   ]
  },
  {
   "cell_type": "code",
   "execution_count": null,
   "id": "4e427ec7-613b-4051-bfee-826c44ed15c3",
   "metadata": {},
   "outputs": [],
   "source": [
    "import pandas as pd\n",
    "from sklearn.model_selection import train_test_split\n",
    "from sklearn.linear_model import LinearRegression\n",
    "from sklearn.metrics import mean_squared_error\n",
    "\n",
    "# Preprocessing\n",
    "kolom = ['TN', 'TX', 'RH_AVG', 'RR', 'SS', 'FF_X', 'FF_AVG']\n",
    "for k in kolom:\n",
    "    df[k] = df[k].astype(str).str.replace(',', '.').astype(float)\n",
    "\n",
    "# Fitur & target\n",
    "X = df[kolom]\n",
    "y = df['TAVG']\n",
    "\n",
    "# Split data\n",
    "X_train, X_test, y_train, y_test = train_test_split(X, y, test_size=0.2, random_state=42)\n",
    "\n",
    "# Model\n",
    "model = LinearRegression()\n",
    "model.fit(X_train, y_train)\n",
    "\n",
    "# Evaluasi\n",
    "prediksi = model.predict(X_test)\n",
    "mse = mean_squared_error(y_test, prediksi)\n",
    "print(f\"Mean Squared Error: {mse:.2f}\")\n"
   ]
  },
  {
   "cell_type": "markdown",
   "id": "64f7e3ce-ddc9-4b67-bac9-c49a6b3265d7",
   "metadata": {},
   "source": [
    "### Contoh 2: Prediksi Hujan atau Tidak — Klasifikasi"
   ]
  },
  {
   "cell_type": "code",
   "execution_count": null,
   "id": "f2ab17f2-436d-4f3f-9bc5-5126c055358e",
   "metadata": {},
   "outputs": [],
   "source": [
    "# Label klasifikasi: apakah hujan\n",
    "df['Hujan'] = df['RR'].apply(lambda x: 1 if float(x) > 0 else 0)\n",
    "\n",
    "from sklearn.ensemble import RandomForestClassifier\n",
    "from sklearn.metrics import classification_report\n",
    "\n",
    "X = df[kolom]\n",
    "y = df['Hujan']\n",
    "\n",
    "X_train, X_test, y_train, y_test = train_test_split(X, y, test_size=0.2, random_state=42)\n",
    "\n",
    "model = RandomForestClassifier()\n",
    "model.fit(X_train, y_train)\n",
    "\n",
    "y_pred = model.predict(X_test)\n",
    "print(classification_report(y_test, y_pred))\n"
   ]
  },
  {
   "cell_type": "markdown",
   "id": "7b6ff988-66ed-482f-8ec3-09e825d7b739",
   "metadata": {},
   "source": [
    "### Bisa Digabung dengan Data Hari Sebelumnya"
   ]
  },
  {
   "cell_type": "code",
   "execution_count": null,
   "id": "15d77bc1-01cd-4416-913f-1ef5dc28b2a4",
   "metadata": {},
   "outputs": [],
   "source": [
    "df['TAVG_besok'] = df['TAVG'].shift(-1)\n",
    "df.dropna(inplace=True)\n"
   ]
  },
  {
   "cell_type": "code",
   "execution_count": null,
   "id": "82a7f0ea-4de6-49e1-a69d-0ec980dc9ca9",
   "metadata": {},
   "outputs": [],
   "source": [
    "import matplotlib.pyplot as plt\n",
    "\n",
    "plt.plot(y_test.values, label='Actual')\n",
    "plt.plot(prediksi, label='Predicted')\n",
    "plt.legend()\n",
    "plt.title(\"Prediksi vs Aktual (TAVG)\")\n",
    "plt.show()\n"
   ]
  },
  {
   "cell_type": "code",
   "execution_count": null,
   "id": "81d46151-c9d1-4e30-836f-070953d0775b",
   "metadata": {},
   "outputs": [],
   "source": []
  },
  {
   "cell_type": "code",
   "execution_count": 17,
   "id": "5e292e8d-ae4a-4761-b07f-086f24153039",
   "metadata": {},
   "outputs": [
    {
     "data": {
      "text/plain": [
       "(30, 12)"
      ]
     },
     "execution_count": 17,
     "metadata": {},
     "output_type": "execute_result"
    }
   ],
   "source": [
    "df.shape"
   ]
  },
  {
   "cell_type": "code",
   "execution_count": 18,
   "id": "4695f9df-03f6-4c64-b7c5-1256c3d046f6",
   "metadata": {},
   "outputs": [
    {
     "name": "stdout",
     "output_type": "stream",
     "text": [
      " Volume in drive C has no label.\n",
      " Volume Serial Number is D429-F2CA\n",
      "\n",
      " Directory of C:\\Users\\agnes\\Desktop\\2025\\s6\\bda\\m11\n",
      "\n",
      "06/06/2025  17.27    <DIR>          .\n",
      "06/06/2025  17.16    <DIR>          ..\n",
      "06/06/2025  09.47    <DIR>          .ipynb_checkpoints\n",
      "05/06/2025  18.37            96.370 DataBaru2.csv\n",
      "06/06/2025  10.31            19.655 Dataset.ipynb\n",
      "06/06/2025  17.27            74.275 KMeans.ipynb\n",
      "06/06/2025  09.59            10.531 laporan_iklim_April-sleman.xlsx\n",
      "06/06/2025  11.13            23.493 laporan_iklim_jayapura_mei_2025.pdf\n",
      "06/06/2025  12.19            10.589 laporan_iklim_jayapura_mei_2025.xlsx\n",
      "06/06/2025  09.25             9.080 laporan_iklim_Juni-sleman.xlsx\n",
      "06/06/2025  09.23            10.638 laporan_iklim_Maret-sleman.xlsx\n",
      "06/06/2025  09.24            10.613 laporan_iklim_Mei-sleman.xlsx\n",
      "06/06/2025  09.48            84.457 Screenshot 2025-06-06 094823.png\n",
      "05/06/2025  20.30         1.021.661 Tugas02_215410072_Fransiskus A Tekege.pdf\n",
      "              11 File(s)      1.371.362 bytes\n",
      "               3 Dir(s)  85.437.743.104 bytes free\n"
     ]
    }
   ],
   "source": [
    "ls"
   ]
  },
  {
   "cell_type": "code",
   "execution_count": null,
   "id": "82719dd2-a785-40a2-93f0-f0472bad962a",
   "metadata": {},
   "outputs": [],
   "source": []
  }
 ],
 "metadata": {
  "kernelspec": {
   "display_name": "Python 3 (ipykernel)",
   "language": "python",
   "name": "python3"
  },
  "language_info": {
   "codemirror_mode": {
    "name": "ipython",
    "version": 3
   },
   "file_extension": ".py",
   "mimetype": "text/x-python",
   "name": "python",
   "nbconvert_exporter": "python",
   "pygments_lexer": "ipython3",
   "version": "3.12.4"
  }
 },
 "nbformat": 4,
 "nbformat_minor": 5
}
